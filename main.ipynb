{
 "cells": [
  {
   "cell_type": "code",
   "execution_count": 2,
   "id": "06d8c997",
   "metadata": {},
   "outputs": [],
   "source": [
    "import pyodbc \n",
    "import nltk\n",
    "from nltk.sentiment import SentimentIntensityAnalyzer\n",
    "from pandas import DataFrame\n",
    "import pandas as pd\n",
    "from sqlalchemy import create_engine"
   ]
  },
  {
   "cell_type": "code",
   "execution_count": null,
   "id": "e1629162",
   "metadata": {},
   "outputs": [],
   "source": [
    "\n",
    "\n",
    "conn = pyodbc.connect('DRIVER={ODBC Driver 17 for SQL Server};SERVER=.;DATABASE=StackOverflow;Trusted_Connection=yes;')\n",
    "cursor = conn.cursor()\n",
    "print('Connection to db successful')\n",
    "\n",
    "\n",
    "\n",
    "\n",
    "query = \"SELECT * FROM dbo.Users WHERE CreationDate < '2010-01-01' AND LastAccessDate > '2020-01-01'\"\n",
    "\n",
    "# results = cursor.execute(cmd).fetchall()\n",
    "df = pd.read_sql(query, conn)"
   ]
  },
  {
   "cell_type": "code",
   "execution_count": null,
   "id": "961b659b",
   "metadata": {},
   "outputs": [],
   "source": [
    "df1 = df.sample(100)\n",
    "df1"
   ]
  },
  {
   "cell_type": "code",
   "execution_count": null,
   "id": "41280d40",
   "metadata": {},
   "outputs": [],
   "source": [
    "Ids = df1['Id']\n",
    "Ids\n",
    "\n"
   ]
  },
  {
   "cell_type": "code",
   "execution_count": null,
   "id": "7c90a3be",
   "metadata": {},
   "outputs": [],
   "source": [
    "query1 = \"SELECT * FROM dbo.PostHistory WHERE UserId = 33889 ORDER BY 'CreationDate' ASC\"\n",
    "\n",
    "df2 = pd.read_sql(query1, conn)"
   ]
  },
  {
   "cell_type": "code",
   "execution_count": null,
   "id": "ee4a9f83",
   "metadata": {
    "scrolled": true
   },
   "outputs": [],
   "source": [
    "df2"
   ]
  },
  {
   "cell_type": "code",
   "execution_count": null,
   "id": "3acce813",
   "metadata": {},
   "outputs": [],
   "source": [
    "test = df2['Text']"
   ]
  },
  {
   "cell_type": "code",
   "execution_count": null,
   "id": "3d741109",
   "metadata": {},
   "outputs": [],
   "source": [
    "test"
   ]
  },
  {
   "cell_type": "code",
   "execution_count": null,
   "id": "b0a9f4f3",
   "metadata": {},
   "outputs": [],
   "source": [
    "import ast\n",
    "\n",
    "df2.iloc[3]['Text']\n",
    "#nltk.download('vader_lexicon')\n",
    "\n",
    "# df2['Prepared Text'] = df2['Text'].str[0].str.join(\" \")\n",
    "\n",
    "sia = SentimentIntensityAnalyzer()\n",
    "#sia.polarity_scores(df2['Prepared Text'])\n",
    "df2['Text'].apply(lambda x: sia.polarity_scores(x))\n",
    "df2"
   ]
  },
  {
   "cell_type": "code",
   "execution_count": null,
   "id": "19648d70",
   "metadata": {},
   "outputs": [],
   "source": [
    "conn = pyodbc.connect('DRIVER={ODBC Driver 17 for SQL Server};SERVER=.;DATABASE=StackOverflow;Trusted_Connection=yes;')\n",
    "cursor = conn.cursor()\n",
    "print('Connection to db successful')\n",
    "\n",
    "\n",
    "\n",
    "\n",
    "query = \"SELECT * FROM dbo.Users WHERE CreationDate < '2010-01-01' AND LastAccessDate > '2020-01-01'\"\n",
    "\n",
    "\n",
    "dfSEND = pd.read_sql(query, conn)"
   ]
  },
  {
   "cell_type": "code",
   "execution_count": null,
   "id": "d588374d",
   "metadata": {},
   "outputs": [],
   "source": [
    "dfSEND = dfSEND.sample(100)"
   ]
  },
  {
   "cell_type": "code",
   "execution_count": null,
   "id": "ac725f5b",
   "metadata": {},
   "outputs": [],
   "source": [
    "dfSEND"
   ]
  },
  {
   "cell_type": "code",
   "execution_count": null,
   "id": "68ae84b3",
   "metadata": {},
   "outputs": [],
   "source": [
    "dfSEND.to_csv('toSEND.csv', encoding='utf-8', index=False)\n"
   ]
  },
  {
   "cell_type": "code",
   "execution_count": null,
   "id": "ea62ba11",
   "metadata": {},
   "outputs": [],
   "source": []
  },
  {
   "cell_type": "code",
   "execution_count": 3,
   "id": "9223a673",
   "metadata": {},
   "outputs": [],
   "source": [
    "df6 = pd.read_csv('toSEND.csv', encoding='utf-8')"
   ]
  },
  {
   "cell_type": "code",
   "execution_count": 4,
   "id": "208db7e8",
   "metadata": {},
   "outputs": [],
   "source": [
    "list_of_users = df6['Id'].tolist()"
   ]
  },
  {
   "cell_type": "code",
   "execution_count": 5,
   "id": "c702a8af",
   "metadata": {},
   "outputs": [
    {
     "name": "stdout",
     "output_type": "stream",
     "text": [
      "OwnerUserId = 74837 OR\n",
      "OwnerUserId = 179916 OR\n",
      "OwnerUserId = 229794 OR\n",
      "OwnerUserId = 98044 OR\n",
      "OwnerUserId = 147591 OR\n",
      "OwnerUserId = 178085 OR\n",
      "OwnerUserId = 153279 OR\n",
      "OwnerUserId = 137067 OR\n",
      "OwnerUserId = 19444 OR\n",
      "OwnerUserId = 110118 OR\n",
      "OwnerUserId = 44579 OR\n",
      "OwnerUserId = 181358 OR\n",
      "OwnerUserId = 175094 OR\n",
      "OwnerUserId = 121196 OR\n",
      "OwnerUserId = 2255990 OR\n",
      "OwnerUserId = 203447 OR\n",
      "OwnerUserId = 1448983 OR\n",
      "OwnerUserId = 74977 OR\n",
      "OwnerUserId = 48413 OR\n",
      "OwnerUserId = 230329 OR\n",
      "OwnerUserId = 15396 OR\n",
      "OwnerUserId = 459877 OR\n",
      "OwnerUserId = 74000 OR\n",
      "OwnerUserId = 179882 OR\n",
      "OwnerUserId = 202816 OR\n",
      "OwnerUserId = 200032 OR\n",
      "OwnerUserId = 220112 OR\n",
      "OwnerUserId = 174413 OR\n",
      "OwnerUserId = 6512 OR\n",
      "OwnerUserId = 74342 OR\n",
      "OwnerUserId = 28810 OR\n",
      "OwnerUserId = 55170 OR\n",
      "OwnerUserId = 19531 OR\n",
      "OwnerUserId = 41820 OR\n",
      "OwnerUserId = 112335 OR\n",
      "OwnerUserId = 53658 OR\n",
      "OwnerUserId = 32963 OR\n",
      "OwnerUserId = 44515 OR\n",
      "OwnerUserId = 39766 OR\n",
      "OwnerUserId = 100238 OR\n",
      "OwnerUserId = 213563 OR\n",
      "OwnerUserId = 219525 OR\n",
      "OwnerUserId = 60518 OR\n",
      "OwnerUserId = 197029 OR\n",
      "OwnerUserId = 189985 OR\n",
      "OwnerUserId = 216063 OR\n",
      "OwnerUserId = 2449905 OR\n",
      "OwnerUserId = 147306 OR\n",
      "OwnerUserId = 123653 OR\n",
      "OwnerUserId = 14114 OR\n",
      "OwnerUserId = 7766 OR\n",
      "OwnerUserId = 139456 OR\n",
      "OwnerUserId = 74057 OR\n",
      "OwnerUserId = 167733 OR\n",
      "OwnerUserId = 210158 OR\n",
      "OwnerUserId = 41422 OR\n",
      "OwnerUserId = 16238 OR\n",
      "OwnerUserId = 110156 OR\n",
      "OwnerUserId = 37292 OR\n",
      "OwnerUserId = 180136 OR\n",
      "OwnerUserId = 80161 OR\n",
      "OwnerUserId = 84237 OR\n",
      "OwnerUserId = 23708 OR\n",
      "OwnerUserId = 120591 OR\n",
      "OwnerUserId = 146360 OR\n",
      "OwnerUserId = 97803 OR\n",
      "OwnerUserId = 233057 OR\n",
      "OwnerUserId = 26453 OR\n",
      "OwnerUserId = 151365 OR\n",
      "OwnerUserId = 170909 OR\n",
      "OwnerUserId = 18880 OR\n",
      "OwnerUserId = 720 OR\n",
      "OwnerUserId = 241479 OR\n",
      "OwnerUserId = 23562 OR\n",
      "OwnerUserId = 187163 OR\n",
      "OwnerUserId = 123510 OR\n",
      "OwnerUserId = 127776 OR\n",
      "OwnerUserId = 23213 OR\n",
      "OwnerUserId = 100072 OR\n",
      "OwnerUserId = 204159 OR\n",
      "OwnerUserId = 122808 OR\n",
      "OwnerUserId = 99682 OR\n",
      "OwnerUserId = 136450 OR\n",
      "OwnerUserId = 62873 OR\n",
      "OwnerUserId = 612 OR\n",
      "OwnerUserId = 105320 OR\n",
      "OwnerUserId = 177761 OR\n",
      "OwnerUserId = 59470 OR\n",
      "OwnerUserId = 169095 OR\n",
      "OwnerUserId = 5677 OR\n",
      "OwnerUserId = 220315 OR\n",
      "OwnerUserId = 13275 OR\n",
      "OwnerUserId = 98632 OR\n",
      "OwnerUserId = 198259 OR\n",
      "OwnerUserId = 162076 OR\n",
      "OwnerUserId = 100129 OR\n",
      "OwnerUserId = 62488 OR\n",
      "OwnerUserId = 186483 OR\n",
      "OwnerUserId = 6460 OR\n",
      "OwnerUserId = 185606 OR\n"
     ]
    }
   ],
   "source": [
    "for element in list_of_users:\n",
    "    print('OwnerUserId = {} OR'.format(element))\n",
    "\n"
   ]
  },
  {
   "cell_type": "code",
   "execution_count": null,
   "id": "aad35ad5",
   "metadata": {},
   "outputs": [],
   "source": [
    "conn = pyodbc.connect('DRIVER={ODBC Driver 17 for SQL Server};SERVER=.;DATABASE=StackOverflow;Trusted_Connection=yes;')\n",
    "\n",
    "element = 74837\n",
    "queryByUser = (\"SELECT * FROM dbo.Comments WHERE UserId = {}\".format(element))\n",
    "res = pd.read_sql(queryByUser, conn)\n",
    "\n",
    "for element in list_of_users:\n",
    "    element = element\n",
    "    queryByUser = (\"SELECT * FROM dbo.Comments WHERE UserId = {}\".format(element))\n",
    "    temp = pd.read_sql(queryByUser, conn)\n",
    "    \n",
    "    frames = [temp, res]\n",
    "    res = pd.concat(frames)\n",
    "    print(res)"
   ]
  },
  {
   "cell_type": "code",
   "execution_count": null,
   "id": "20b06388",
   "metadata": {},
   "outputs": [],
   "source": [
    "res"
   ]
  },
  {
   "cell_type": "code",
   "execution_count": null,
   "id": "b94bf0f7",
   "metadata": {},
   "outputs": [],
   "source": [
    "conn = pyodbc.connect('DRIVER={ODBC Driver 17 for SQL Server};SERVER=.;DATABASE=StackOverflow;Trusted_Connection=yes;')\n",
    "\n",
    "element = 74837\n",
    "queryByUser = (\"SELECT * FROM dbo.Posts WHERE OwnerUserId = {}\".format(element))\n",
    "res = pd.read_sql(queryByUser, conn)\n",
    "print(res)\n",
    "\n",
    "# for element in list_of_users:\n",
    "#     element = element\n",
    "#     queryByUser = (\"SELECT * FROM dbo.Posts WHERE UserId = {}\".format(element))\n",
    "#     temp = pd.read_sql(queryByUser, conn)\n",
    "    \n",
    "#     frames = [temp, res]\n",
    "#     res = pd.concat(frames)\n",
    "#     print(res)"
   ]
  },
  {
   "cell_type": "code",
   "execution_count": null,
   "id": "37d495d3",
   "metadata": {},
   "outputs": [],
   "source": []
  },
  {
   "cell_type": "code",
   "execution_count": null,
   "id": "955166ab",
   "metadata": {},
   "outputs": [],
   "source": []
  },
  {
   "cell_type": "code",
   "execution_count": null,
   "id": "ffc16ba5",
   "metadata": {},
   "outputs": [],
   "source": [
    "conn = pyodbc.connect('DRIVER={ODBC Driver 17 for SQL Server};SERVER=.;DATABASE=StackOverflow;Trusted_Connection=yes;')\n",
    "\n",
    "element = 74837\n",
    "queryByUser = (\"SELECT * FROM dbo.Comments WHERE UserId = {}\".format(element))\n",
    "res = pd.read_sql(queryByUser, conn)"
   ]
  },
  {
   "cell_type": "code",
   "execution_count": null,
   "id": "38641de4",
   "metadata": {},
   "outputs": [],
   "source": [
    "res"
   ]
  },
  {
   "cell_type": "code",
   "execution_count": null,
   "id": "3badaf95",
   "metadata": {},
   "outputs": [],
   "source": [
    "# Need to iterate over this list and get all posts for each user id\n",
    "res.to_csv('CommentsById.csv', encoding='utf-8', index=False)"
   ]
  },
  {
   "cell_type": "code",
   "execution_count": null,
   "id": "52e2313e",
   "metadata": {},
   "outputs": [],
   "source": []
  },
  {
   "cell_type": "code",
   "execution_count": null,
   "id": "88825b9e",
   "metadata": {},
   "outputs": [],
   "source": [
    "conn = pyodbc.connect('DRIVER={ODBC Driver 17 for SQL Server};SERVER=.;DATABASE=StackOverflow;Trusted_Connection=yes;')\n",
    "cursor = conn.cursor()\n",
    "print('Connection to db successful')\n",
    "\n",
    "\n",
    "\n",
    "\n",
    "# query = \"SELECT * FROM dbo.Posts WHERE CreationDate < '2010-01-01' AND LastAccessDate > '2020-01-01'\"\n",
    "query1 = \"SELECT * FROM dbo.Posts WHERE CreationDate < '2010-01-01' AND LastAccessDate > '2020-01-01'\"\n",
    "\n",
    "dfSEND = pd.read_sql(query, conn)"
   ]
  },
  {
   "cell_type": "code",
   "execution_count": null,
   "id": "4b0d5dbd",
   "metadata": {},
   "outputs": [],
   "source": [
    "df7 = pd.read_csv('Posts.txt', encoding='utf-8')\n",
    "df7\n",
    "\n",
    " "
   ]
  },
  {
   "cell_type": "code",
   "execution_count": null,
   "id": "97097a01",
   "metadata": {},
   "outputs": [],
   "source": [
    "# Need to iterate over this list and get all posts for each user id\n",
    "df7.to_csv('AllPosts.csv', encoding='utf-8', index=False)"
   ]
  },
  {
   "cell_type": "code",
   "execution_count": null,
   "id": "f9e8b8cc",
   "metadata": {},
   "outputs": [],
   "source": [
    "df8 = pd.read_csv('AllPosts.csv', encoding='utf-8')\n",
    "df8\n"
   ]
  },
  {
   "cell_type": "code",
   "execution_count": null,
   "id": "7c206ecf",
   "metadata": {},
   "outputs": [],
   "source": []
  }
 ],
 "metadata": {
  "kernelspec": {
   "display_name": "Python 3 (ipykernel)",
   "language": "python",
   "name": "python3"
  },
  "language_info": {
   "codemirror_mode": {
    "name": "ipython",
    "version": 3
   },
   "file_extension": ".py",
   "mimetype": "text/x-python",
   "name": "python",
   "nbconvert_exporter": "python",
   "pygments_lexer": "ipython3",
   "version": "3.9.5"
  }
 },
 "nbformat": 4,
 "nbformat_minor": 5
}
